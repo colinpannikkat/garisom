{
 "cells": [
  {
   "cell_type": "markdown",
   "metadata": {},
   "source": [
    "# Notebook for plotting GARISOMv3 model timesteps output"
   ]
  },
  {
   "cell_type": "code",
   "execution_count": null,
   "metadata": {},
   "outputs": [],
   "source": [
    "import pandas as pd\n",
    "import matplotlib.pyplot as plt\n",
    "import numpy as np\n",
    "from itertools import cycle # used for cycling colors"
   ]
  },
  {
   "cell_type": "code",
   "execution_count": null,
   "metadata": {},
   "outputs": [],
   "source": [
    "files = []\n",
    "log_large_differences = True # switch to True if logged y-axis is desirable\n",
    "clip = True # clip large outlier values"
   ]
  },
  {
   "cell_type": "code",
   "execution_count": null,
   "metadata": {},
   "outputs": [],
   "source": [
    "def plot_across_index(dt, var_name, log=False, ylim=None, xlim=None):\n",
    "    plt.figure(figsize=(10, 6))\n",
    "    plt.plot(dt[var_name] if not log else np.log1p(dt[var_name]), label=f'{var_name}', alpha=0.5, color=\"b\")\n",
    "    plt.xlabel('Index')\n",
    "    log_str = \"log \"\n",
    "    plt.ylabel(f'{log_str if log else \"\"}{var_name}')\n",
    "    plt.title(f'{var_name}')\n",
    "    if ylim:\n",
    "        plt.ylim(ylim)\n",
    "    if xlim:\n",
    "        plt.xlim(xlim)\n",
    "    plt.legend()\n",
    "    plt.show()"
   ]
  },
  {
   "cell_type": "code",
   "execution_count": null,
   "metadata": {},
   "outputs": [],
   "source": [
    "def plot(files):\n",
    "    for file in files:\n",
    "        dt = pd.read_csv(file)\n",
    "        dt = dt[dt['year'] != 0]\n",
    "\n",
    "        skip = 3 # skip year, month, and jd\n",
    "        for i, col_name in enumerate(dt.columns[skip:]):\n",
    "            max_val = dt[col_name].max()\n",
    "            min_val = dt[col_name].min()\n",
    "            log = (max_val - min_val) > 10**2 and log_large_differences\n",
    "            print(col_name)\n",
    "            plot_across_index(dt, col_name, log=log)"
   ]
  },
  {
   "cell_type": "code",
   "execution_count": null,
   "metadata": {},
   "outputs": [],
   "source": [
    "colors = ['b', 'g', 'r', 'c']\n",
    "\n",
    "def multiplot_across_index(dts, var_name, log=False, clip=False, ylim=None, xlim=None):\n",
    "    plt.figure(figsize=(10, 6))\n",
    "    threshold = max(np.percentile(dt[var_name], 99) for dt, _ in dts)\n",
    "    for (dt, file), color in zip(dts, cycle(colors)):\n",
    "        plt_data = dt[var_name]\n",
    "        if clip:\n",
    "            plt_data = np.clip(plt_data, None, threshold)\n",
    "        if log:\n",
    "            plt_data = np.log1p(plt_data)\n",
    "\n",
    "        plt.plot(plt_data, label=f'{file},{var_name}', alpha=0.5, color=color)\n",
    "    plt.xlabel('Index')\n",
    "    log_str = \"log \"\n",
    "    plt.ylabel(f'{log_str if log else \"\"}{var_name}')\n",
    "    plt.title(f'{var_name} across files')\n",
    "    if ylim:\n",
    "        plt.ylim(ylim)\n",
    "    if xlim:\n",
    "        plt.xlim(xlim)\n",
    "    plt.legend()\n",
    "    plt.show()"
   ]
  },
  {
   "cell_type": "code",
   "execution_count": null,
   "metadata": {},
   "outputs": [],
   "source": [
    "def multiplot(files):\n",
    "    dts = []\n",
    "    for file in files:\n",
    "        dt = pd.read_csv(file)\n",
    "        dt = dt[dt['year'] != 0]\n",
    "        dts.append((dt, file))\n",
    "    \n",
    "    skip = 3 # skip year, month, and jd\n",
    "    for i, col_name in enumerate(dt.columns[skip:]):\n",
    "        max_val = max(dt[col_name].max() for dt, _ in dts)\n",
    "        min_val = min(dt[col_name].min() for dt, _ in dts)\n",
    "        log = (max_val - min_val) > 10**2 and log_large_differences\n",
    "        print(col_name)\n",
    "        multiplot_across_index(dts, col_name, log=log, clip=clip)\n",
    "    "
   ]
  },
  {
   "cell_type": "code",
   "execution_count": null,
   "metadata": {},
   "outputs": [],
   "source": [
    "multiplot(files)"
   ]
  }
 ],
 "metadata": {
  "kernelspec": {
   "display_name": "env",
   "language": "python",
   "name": "python3"
  },
  "language_info": {
   "codemirror_mode": {
    "name": "ipython",
    "version": 3
   },
   "file_extension": ".py",
   "mimetype": "text/x-python",
   "name": "python",
   "nbconvert_exporter": "python",
   "pygments_lexer": "ipython3",
   "version": "3.12.5"
  }
 },
 "nbformat": 4,
 "nbformat_minor": 2
}
