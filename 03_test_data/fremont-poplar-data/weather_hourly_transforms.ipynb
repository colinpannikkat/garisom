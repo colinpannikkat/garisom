{
 "cells": [
  {
   "cell_type": "markdown",
   "metadata": {},
   "source": [
    "# Transformed Hourly Weather Data\n",
    "Author: Colin Pannikkat\n",
    "\n",
    "This notebook transforms the Posch et. al hourly weather data into a usable input file for the GARISOM model. Soil temperature was not provided, and is instead retrieved from NLDAS in file_builder.py when building the simulation files. "
   ]
  },
  {
   "cell_type": "code",
   "execution_count": 2,
   "metadata": {},
   "outputs": [],
   "source": [
    "import pandas as pd\n",
    "from datetime import datetime\n",
    "import numpy as np"
   ]
  },
  {
   "cell_type": "code",
   "execution_count": 3,
   "metadata": {},
   "outputs": [
    {
     "data": {
      "application/vnd.microsoft.datawrangler.viewer.v0+json": {
       "columns": [
        {
         "name": "index",
         "rawType": "int64",
         "type": "integer"
        },
        {
         "name": "No.",
         "rawType": "float64",
         "type": "float"
        },
        {
         "name": "Date.Time",
         "rawType": "object",
         "type": "string"
        },
        {
         "name": "Rain.mm",
         "rawType": "float64",
         "type": "float"
        },
        {
         "name": "Wind.Direction",
         "rawType": "float64",
         "type": "float"
        },
        {
         "name": "Temp.C",
         "rawType": "float64",
         "type": "float"
        },
        {
         "name": "RH.percent",
         "rawType": "float64",
         "type": "float"
        },
        {
         "name": "Wind.Speed.m.s",
         "rawType": "float64",
         "type": "float"
        },
        {
         "name": "Gust.Speed.m.s",
         "rawType": "float64",
         "type": "float"
        },
        {
         "name": "PAR.mumol.m2.s",
         "rawType": "float64",
         "type": "float"
        }
       ],
       "conversionMethod": "pd.DataFrame",
       "ref": "568f053e-2538-4503-8373-50c254fe5e65",
       "rows": [
        [
         "0",
         "26333.5",
         "5/1/2023 0:43",
         "0.0",
         "110.95",
         "25.276",
         "17.6",
         "0.0",
         "1.26",
         "1.2"
        ],
        [
         "1",
         "26335.5",
         "5/1/2023 1:43",
         "0.0",
         "57.6",
         "23.2815",
         "21.9",
         "0.0",
         "0.755",
         "1.2"
        ],
        [
         "2",
         "26337.5",
         "5/1/2023 2:43",
         "0.0",
         "68.1",
         "23.2805",
         "23.4",
         "0.0",
         "1.26",
         "1.2"
        ],
        [
         "3",
         "26339.5",
         "5/1/2023 3:43",
         "0.0",
         "63.2",
         "21.7",
         "25.25",
         "0.25",
         "1.76",
         "1.2"
        ],
        [
         "4",
         "26341.5",
         "5/1/2023 4:43",
         "0.0",
         "44.2",
         "21.199",
         "25.55",
         "0.5",
         "2.01",
         "1.2"
        ]
       ],
       "shape": {
        "columns": 9,
        "rows": 5
       }
      },
      "text/html": [
       "<div>\n",
       "<style scoped>\n",
       "    .dataframe tbody tr th:only-of-type {\n",
       "        vertical-align: middle;\n",
       "    }\n",
       "\n",
       "    .dataframe tbody tr th {\n",
       "        vertical-align: top;\n",
       "    }\n",
       "\n",
       "    .dataframe thead th {\n",
       "        text-align: right;\n",
       "    }\n",
       "</style>\n",
       "<table border=\"1\" class=\"dataframe\">\n",
       "  <thead>\n",
       "    <tr style=\"text-align: right;\">\n",
       "      <th></th>\n",
       "      <th>No.</th>\n",
       "      <th>Date.Time</th>\n",
       "      <th>Rain.mm</th>\n",
       "      <th>Wind.Direction</th>\n",
       "      <th>Temp.C</th>\n",
       "      <th>RH.percent</th>\n",
       "      <th>Wind.Speed.m.s</th>\n",
       "      <th>Gust.Speed.m.s</th>\n",
       "      <th>PAR.mumol.m2.s</th>\n",
       "    </tr>\n",
       "  </thead>\n",
       "  <tbody>\n",
       "    <tr>\n",
       "      <th>0</th>\n",
       "      <td>26333.5</td>\n",
       "      <td>5/1/2023 0:43</td>\n",
       "      <td>0.0</td>\n",
       "      <td>110.95</td>\n",
       "      <td>25.2760</td>\n",
       "      <td>17.60</td>\n",
       "      <td>0.00</td>\n",
       "      <td>1.260</td>\n",
       "      <td>1.2</td>\n",
       "    </tr>\n",
       "    <tr>\n",
       "      <th>1</th>\n",
       "      <td>26335.5</td>\n",
       "      <td>5/1/2023 1:43</td>\n",
       "      <td>0.0</td>\n",
       "      <td>57.60</td>\n",
       "      <td>23.2815</td>\n",
       "      <td>21.90</td>\n",
       "      <td>0.00</td>\n",
       "      <td>0.755</td>\n",
       "      <td>1.2</td>\n",
       "    </tr>\n",
       "    <tr>\n",
       "      <th>2</th>\n",
       "      <td>26337.5</td>\n",
       "      <td>5/1/2023 2:43</td>\n",
       "      <td>0.0</td>\n",
       "      <td>68.10</td>\n",
       "      <td>23.2805</td>\n",
       "      <td>23.40</td>\n",
       "      <td>0.00</td>\n",
       "      <td>1.260</td>\n",
       "      <td>1.2</td>\n",
       "    </tr>\n",
       "    <tr>\n",
       "      <th>3</th>\n",
       "      <td>26339.5</td>\n",
       "      <td>5/1/2023 3:43</td>\n",
       "      <td>0.0</td>\n",
       "      <td>63.20</td>\n",
       "      <td>21.7000</td>\n",
       "      <td>25.25</td>\n",
       "      <td>0.25</td>\n",
       "      <td>1.760</td>\n",
       "      <td>1.2</td>\n",
       "    </tr>\n",
       "    <tr>\n",
       "      <th>4</th>\n",
       "      <td>26341.5</td>\n",
       "      <td>5/1/2023 4:43</td>\n",
       "      <td>0.0</td>\n",
       "      <td>44.20</td>\n",
       "      <td>21.1990</td>\n",
       "      <td>25.55</td>\n",
       "      <td>0.50</td>\n",
       "      <td>2.010</td>\n",
       "      <td>1.2</td>\n",
       "    </tr>\n",
       "  </tbody>\n",
       "</table>\n",
       "</div>"
      ],
      "text/plain": [
       "       No.      Date.Time  Rain.mm  Wind.Direction   Temp.C  RH.percent  \\\n",
       "0  26333.5  5/1/2023 0:43      0.0          110.95  25.2760       17.60   \n",
       "1  26335.5  5/1/2023 1:43      0.0           57.60  23.2815       21.90   \n",
       "2  26337.5  5/1/2023 2:43      0.0           68.10  23.2805       23.40   \n",
       "3  26339.5  5/1/2023 3:43      0.0           63.20  21.7000       25.25   \n",
       "4  26341.5  5/1/2023 4:43      0.0           44.20  21.1990       25.55   \n",
       "\n",
       "   Wind.Speed.m.s  Gust.Speed.m.s  PAR.mumol.m2.s  \n",
       "0            0.00           1.260             1.2  \n",
       "1            0.00           0.755             1.2  \n",
       "2            0.00           1.260             1.2  \n",
       "3            0.25           1.760             1.2  \n",
       "4            0.50           2.010             1.2  "
      ]
     },
     "execution_count": 3,
     "metadata": {},
     "output_type": "execute_result"
    }
   ],
   "source": [
    "hourly_weather = pd.read_csv(\"./data/weather_hourly.avg_230501-231231.csv\")\n",
    "hourly_weather.head()"
   ]
  },
  {
   "cell_type": "code",
   "execution_count": 4,
   "metadata": {},
   "outputs": [
    {
     "data": {
      "application/vnd.microsoft.datawrangler.viewer.v0+json": {
       "columns": [
        {
         "name": "index",
         "rawType": "int64",
         "type": "integer"
        },
        {
         "name": "Date.yymmdd",
         "rawType": "int64",
         "type": "integer"
        },
        {
         "name": "DOY",
         "rawType": "int64",
         "type": "integer"
        },
        {
         "name": "Time.Start",
         "rawType": "object",
         "type": "string"
        },
        {
         "name": "Time.Stop",
         "rawType": "object",
         "type": "string"
        },
        {
         "name": "irrigation.mm3",
         "rawType": "float64",
         "type": "float"
        },
        {
         "name": "irrigation.mm",
         "rawType": "float64",
         "type": "float"
        },
        {
         "name": "precipitation.mm",
         "rawType": "float64",
         "type": "float"
        }
       ],
       "conversionMethod": "pd.DataFrame",
       "ref": "5c387120-e723-4c02-a47d-c058109d819e",
       "rows": [
        [
         "0",
         "230527",
         "147",
         "0:00:00",
         "0:01:00",
         "0.0",
         "0.0",
         "0.0"
        ],
        [
         "1",
         "230527",
         "147",
         "0:01:00",
         "0:02:00",
         "0.0",
         "0.0",
         "0.0"
        ],
        [
         "2",
         "230527",
         "147",
         "0:02:00",
         "0:03:00",
         "0.0",
         "0.0",
         "0.0"
        ],
        [
         "3",
         "230527",
         "147",
         "0:03:00",
         "0:04:00",
         "0.0",
         "0.0",
         "0.0"
        ],
        [
         "4",
         "230527",
         "147",
         "0:04:00",
         "0:05:00",
         "0.0",
         "0.0",
         "0.0"
        ]
       ],
       "shape": {
        "columns": 7,
        "rows": 5
       }
      },
      "text/html": [
       "<div>\n",
       "<style scoped>\n",
       "    .dataframe tbody tr th:only-of-type {\n",
       "        vertical-align: middle;\n",
       "    }\n",
       "\n",
       "    .dataframe tbody tr th {\n",
       "        vertical-align: top;\n",
       "    }\n",
       "\n",
       "    .dataframe thead th {\n",
       "        text-align: right;\n",
       "    }\n",
       "</style>\n",
       "<table border=\"1\" class=\"dataframe\">\n",
       "  <thead>\n",
       "    <tr style=\"text-align: right;\">\n",
       "      <th></th>\n",
       "      <th>Date.yymmdd</th>\n",
       "      <th>DOY</th>\n",
       "      <th>Time.Start</th>\n",
       "      <th>Time.Stop</th>\n",
       "      <th>irrigation.mm3</th>\n",
       "      <th>irrigation.mm</th>\n",
       "      <th>precipitation.mm</th>\n",
       "    </tr>\n",
       "  </thead>\n",
       "  <tbody>\n",
       "    <tr>\n",
       "      <th>0</th>\n",
       "      <td>230527</td>\n",
       "      <td>147</td>\n",
       "      <td>0:00:00</td>\n",
       "      <td>0:01:00</td>\n",
       "      <td>0.0</td>\n",
       "      <td>0.0</td>\n",
       "      <td>0.0</td>\n",
       "    </tr>\n",
       "    <tr>\n",
       "      <th>1</th>\n",
       "      <td>230527</td>\n",
       "      <td>147</td>\n",
       "      <td>0:01:00</td>\n",
       "      <td>0:02:00</td>\n",
       "      <td>0.0</td>\n",
       "      <td>0.0</td>\n",
       "      <td>0.0</td>\n",
       "    </tr>\n",
       "    <tr>\n",
       "      <th>2</th>\n",
       "      <td>230527</td>\n",
       "      <td>147</td>\n",
       "      <td>0:02:00</td>\n",
       "      <td>0:03:00</td>\n",
       "      <td>0.0</td>\n",
       "      <td>0.0</td>\n",
       "      <td>0.0</td>\n",
       "    </tr>\n",
       "    <tr>\n",
       "      <th>3</th>\n",
       "      <td>230527</td>\n",
       "      <td>147</td>\n",
       "      <td>0:03:00</td>\n",
       "      <td>0:04:00</td>\n",
       "      <td>0.0</td>\n",
       "      <td>0.0</td>\n",
       "      <td>0.0</td>\n",
       "    </tr>\n",
       "    <tr>\n",
       "      <th>4</th>\n",
       "      <td>230527</td>\n",
       "      <td>147</td>\n",
       "      <td>0:04:00</td>\n",
       "      <td>0:05:00</td>\n",
       "      <td>0.0</td>\n",
       "      <td>0.0</td>\n",
       "      <td>0.0</td>\n",
       "    </tr>\n",
       "  </tbody>\n",
       "</table>\n",
       "</div>"
      ],
      "text/plain": [
       "   Date.yymmdd  DOY Time.Start Time.Stop  irrigation.mm3  irrigation.mm  \\\n",
       "0       230527  147    0:00:00   0:01:00             0.0            0.0   \n",
       "1       230527  147    0:01:00   0:02:00             0.0            0.0   \n",
       "2       230527  147    0:02:00   0:03:00             0.0            0.0   \n",
       "3       230527  147    0:03:00   0:04:00             0.0            0.0   \n",
       "4       230527  147    0:04:00   0:05:00             0.0            0.0   \n",
       "\n",
       "   precipitation.mm  \n",
       "0               0.0  \n",
       "1               0.0  \n",
       "2               0.0  \n",
       "3               0.0  \n",
       "4               0.0  "
      ]
     },
     "execution_count": 4,
     "metadata": {},
     "output_type": "execute_result"
    }
   ],
   "source": [
    "water_amount = pd.read_csv(\"./data/water amounts_pots_2023.csv\")\n",
    "water_amount.head()"
   ]
  },
  {
   "cell_type": "code",
   "execution_count": 5,
   "metadata": {},
   "outputs": [],
   "source": [
    "water_amount['Year'] = water_amount['Date.yymmdd'].map(lambda x: datetime.strptime(str(x), \"%y%m%d\").strftime(\"%Y\"))"
   ]
  },
  {
   "cell_type": "code",
   "execution_count": 6,
   "metadata": {},
   "outputs": [],
   "source": [
    "water_amount['Day'] = water_amount['DOY'].map(lambda x: datetime.strptime(str(x), \"%j\").strftime(\"%-j\"))"
   ]
  },
  {
   "cell_type": "code",
   "execution_count": 7,
   "metadata": {},
   "outputs": [],
   "source": [
    "water_amount['Hour'] = water_amount['Time.Start'].map(lambda x: datetime.strptime(x, \"0:%H:%M\").strftime(\"%H\"))"
   ]
  },
  {
   "cell_type": "code",
   "execution_count": 8,
   "metadata": {},
   "outputs": [
    {
     "data": {
      "application/vnd.microsoft.datawrangler.viewer.v0+json": {
       "columns": [
        {
         "name": "index",
         "rawType": "int64",
         "type": "integer"
        },
        {
         "name": "Date.yymmdd",
         "rawType": "int64",
         "type": "integer"
        },
        {
         "name": "DOY",
         "rawType": "int64",
         "type": "integer"
        },
        {
         "name": "Time.Start",
         "rawType": "object",
         "type": "string"
        },
        {
         "name": "Time.Stop",
         "rawType": "object",
         "type": "string"
        },
        {
         "name": "irrigation.mm3",
         "rawType": "float64",
         "type": "float"
        },
        {
         "name": "irrigation.mm",
         "rawType": "float64",
         "type": "float"
        },
        {
         "name": "precipitation.mm",
         "rawType": "float64",
         "type": "float"
        },
        {
         "name": "Year",
         "rawType": "object",
         "type": "string"
        },
        {
         "name": "Day",
         "rawType": "object",
         "type": "string"
        },
        {
         "name": "Hour",
         "rawType": "object",
         "type": "string"
        }
       ],
       "conversionMethod": "pd.DataFrame",
       "ref": "95aca379-4e99-434a-8e6b-109aeb7b4ab7",
       "rows": [
        [
         "0",
         "230527",
         "147",
         "0:00:00",
         "0:01:00",
         "0.0",
         "0.0",
         "0.0",
         "2023",
         "147",
         "00"
        ],
        [
         "1",
         "230527",
         "147",
         "0:01:00",
         "0:02:00",
         "0.0",
         "0.0",
         "0.0",
         "2023",
         "147",
         "01"
        ],
        [
         "2",
         "230527",
         "147",
         "0:02:00",
         "0:03:00",
         "0.0",
         "0.0",
         "0.0",
         "2023",
         "147",
         "02"
        ],
        [
         "3",
         "230527",
         "147",
         "0:03:00",
         "0:04:00",
         "0.0",
         "0.0",
         "0.0",
         "2023",
         "147",
         "03"
        ],
        [
         "4",
         "230527",
         "147",
         "0:04:00",
         "0:05:00",
         "0.0",
         "0.0",
         "0.0",
         "2023",
         "147",
         "04"
        ]
       ],
       "shape": {
        "columns": 10,
        "rows": 5
       }
      },
      "text/html": [
       "<div>\n",
       "<style scoped>\n",
       "    .dataframe tbody tr th:only-of-type {\n",
       "        vertical-align: middle;\n",
       "    }\n",
       "\n",
       "    .dataframe tbody tr th {\n",
       "        vertical-align: top;\n",
       "    }\n",
       "\n",
       "    .dataframe thead th {\n",
       "        text-align: right;\n",
       "    }\n",
       "</style>\n",
       "<table border=\"1\" class=\"dataframe\">\n",
       "  <thead>\n",
       "    <tr style=\"text-align: right;\">\n",
       "      <th></th>\n",
       "      <th>Date.yymmdd</th>\n",
       "      <th>DOY</th>\n",
       "      <th>Time.Start</th>\n",
       "      <th>Time.Stop</th>\n",
       "      <th>irrigation.mm3</th>\n",
       "      <th>irrigation.mm</th>\n",
       "      <th>precipitation.mm</th>\n",
       "      <th>Year</th>\n",
       "      <th>Day</th>\n",
       "      <th>Hour</th>\n",
       "    </tr>\n",
       "  </thead>\n",
       "  <tbody>\n",
       "    <tr>\n",
       "      <th>0</th>\n",
       "      <td>230527</td>\n",
       "      <td>147</td>\n",
       "      <td>0:00:00</td>\n",
       "      <td>0:01:00</td>\n",
       "      <td>0.0</td>\n",
       "      <td>0.0</td>\n",
       "      <td>0.0</td>\n",
       "      <td>2023</td>\n",
       "      <td>147</td>\n",
       "      <td>00</td>\n",
       "    </tr>\n",
       "    <tr>\n",
       "      <th>1</th>\n",
       "      <td>230527</td>\n",
       "      <td>147</td>\n",
       "      <td>0:01:00</td>\n",
       "      <td>0:02:00</td>\n",
       "      <td>0.0</td>\n",
       "      <td>0.0</td>\n",
       "      <td>0.0</td>\n",
       "      <td>2023</td>\n",
       "      <td>147</td>\n",
       "      <td>01</td>\n",
       "    </tr>\n",
       "    <tr>\n",
       "      <th>2</th>\n",
       "      <td>230527</td>\n",
       "      <td>147</td>\n",
       "      <td>0:02:00</td>\n",
       "      <td>0:03:00</td>\n",
       "      <td>0.0</td>\n",
       "      <td>0.0</td>\n",
       "      <td>0.0</td>\n",
       "      <td>2023</td>\n",
       "      <td>147</td>\n",
       "      <td>02</td>\n",
       "    </tr>\n",
       "    <tr>\n",
       "      <th>3</th>\n",
       "      <td>230527</td>\n",
       "      <td>147</td>\n",
       "      <td>0:03:00</td>\n",
       "      <td>0:04:00</td>\n",
       "      <td>0.0</td>\n",
       "      <td>0.0</td>\n",
       "      <td>0.0</td>\n",
       "      <td>2023</td>\n",
       "      <td>147</td>\n",
       "      <td>03</td>\n",
       "    </tr>\n",
       "    <tr>\n",
       "      <th>4</th>\n",
       "      <td>230527</td>\n",
       "      <td>147</td>\n",
       "      <td>0:04:00</td>\n",
       "      <td>0:05:00</td>\n",
       "      <td>0.0</td>\n",
       "      <td>0.0</td>\n",
       "      <td>0.0</td>\n",
       "      <td>2023</td>\n",
       "      <td>147</td>\n",
       "      <td>04</td>\n",
       "    </tr>\n",
       "  </tbody>\n",
       "</table>\n",
       "</div>"
      ],
      "text/plain": [
       "   Date.yymmdd  DOY Time.Start Time.Stop  irrigation.mm3  irrigation.mm  \\\n",
       "0       230527  147    0:00:00   0:01:00             0.0            0.0   \n",
       "1       230527  147    0:01:00   0:02:00             0.0            0.0   \n",
       "2       230527  147    0:02:00   0:03:00             0.0            0.0   \n",
       "3       230527  147    0:03:00   0:04:00             0.0            0.0   \n",
       "4       230527  147    0:04:00   0:05:00             0.0            0.0   \n",
       "\n",
       "   precipitation.mm  Year  Day Hour  \n",
       "0               0.0  2023  147   00  \n",
       "1               0.0  2023  147   01  \n",
       "2               0.0  2023  147   02  \n",
       "3               0.0  2023  147   03  \n",
       "4               0.0  2023  147   04  "
      ]
     },
     "execution_count": 8,
     "metadata": {},
     "output_type": "execute_result"
    }
   ],
   "source": [
    "water_amount.head()"
   ]
  },
  {
   "cell_type": "code",
   "execution_count": 9,
   "metadata": {},
   "outputs": [],
   "source": [
    "new_hourly_weather = pd.DataFrame(columns=['Year', 'Day', 'Hour', 'Solar_Wm2', 'Rain_mm', 'Wind_ms.1', 'Tair_C', 'D_kPa'])"
   ]
  },
  {
   "cell_type": "code",
   "execution_count": 10,
   "metadata": {},
   "outputs": [],
   "source": [
    "new_hourly_weather['Rain_mm'] = hourly_weather['Rain.mm']"
   ]
  },
  {
   "cell_type": "code",
   "execution_count": 11,
   "metadata": {},
   "outputs": [],
   "source": [
    "new_hourly_weather['Wind_ms.1'] = hourly_weather['Wind.Speed.m.s']"
   ]
  },
  {
   "cell_type": "code",
   "execution_count": 12,
   "metadata": {},
   "outputs": [],
   "source": [
    "new_hourly_weather['Tair_C'] = hourly_weather['Temp.C']"
   ]
  },
  {
   "cell_type": "code",
   "execution_count": 13,
   "metadata": {},
   "outputs": [],
   "source": [
    "new_hourly_weather['Year'] = hourly_weather['Date.Time'].map(lambda x: datetime.strptime(x, \"%m/%d/%Y %H:%M\").strftime(\"%Y\"))"
   ]
  },
  {
   "cell_type": "code",
   "execution_count": 14,
   "metadata": {},
   "outputs": [],
   "source": [
    "new_hourly_weather['Day'] = hourly_weather['Date.Time'].map(lambda x: datetime.strptime(x, \"%m/%d/%Y %H:%M\").strftime(\"%-j\"))"
   ]
  },
  {
   "cell_type": "code",
   "execution_count": 15,
   "metadata": {},
   "outputs": [],
   "source": [
    "new_hourly_weather['Hour'] = hourly_weather['Date.Time'].map(lambda x: datetime.strptime(x, \"%m/%d/%Y %H:%M\").strftime(\"%H\"))"
   ]
  },
  {
   "cell_type": "code",
   "execution_count": 16,
   "metadata": {},
   "outputs": [
    {
     "data": {
      "text/plain": [
       "Year  Day  Hour\n",
       "2023  121  00      0.0\n",
       "           01      0.0\n",
       "           02      0.0\n",
       "           03      0.0\n",
       "           04      0.0\n",
       "                  ... \n",
       "      365  19      0.0\n",
       "           20      0.0\n",
       "           21      0.0\n",
       "           22      0.0\n",
       "           23      0.0\n",
       "Name: Rain_mm, Length: 5880, dtype: float64"
      ]
     },
     "execution_count": 16,
     "metadata": {},
     "output_type": "execute_result"
    }
   ],
   "source": [
    "new_hourly_weather.set_index(['Year','Day','Hour'])['Rain_mm']"
   ]
  },
  {
   "cell_type": "code",
   "execution_count": 17,
   "metadata": {},
   "outputs": [
    {
     "data": {
      "text/plain": [
       "Year  Day  Hour\n",
       "2023  147  00      0.0\n",
       "           01      0.0\n",
       "           02      0.0\n",
       "           03      0.0\n",
       "           04      0.0\n",
       "                  ... \n",
       "      301  19      0.0\n",
       "           20      0.0\n",
       "           21      0.0\n",
       "           22      0.0\n",
       "           23      0.0\n",
       "Name: irrigation.mm, Length: 3696, dtype: float64"
      ]
     },
     "execution_count": 17,
     "metadata": {},
     "output_type": "execute_result"
    }
   ],
   "source": [
    "water_amount.set_index(['Year', 'Day', 'Hour'])['irrigation.mm']"
   ]
  },
  {
   "cell_type": "code",
   "execution_count": 18,
   "metadata": {},
   "outputs": [],
   "source": [
    "# Align indices before addition\n",
    "water_amount_indexed = water_amount.set_index(['Year', 'Day', 'Hour'])['irrigation.mm'] / 10\n",
    "new_hourly_weather_indexed = new_hourly_weather.set_index(['Year', 'Day', 'Hour'])['Rain_mm']\n",
    "\n",
    "# Reindex water_amount_indexed to match new_hourly_weather_indexed\n",
    "water_amount_indexed = water_amount_indexed.reindex(new_hourly_weather_indexed.index, fill_value=0)\n",
    "\n",
    "# Perform addition with aligned indices\n",
    "new_hourly_weather['Rain_mm'] = water_amount_indexed.add(new_hourly_weather_indexed, fill_value=0).reset_index(drop=True)"
   ]
  },
  {
   "cell_type": "code",
   "execution_count": 19,
   "metadata": {},
   "outputs": [],
   "source": [
    "# Add irrigation values for pre May 27th twice a day, 6.32mm\n",
    "new_hourly_weather.loc[\n",
    "    (new_hourly_weather['Day'].astype(int) < 147) & \n",
    "    ((new_hourly_weather['Hour'].astype(int) == 6) | (new_hourly_weather['Hour'].astype(int) == 18)),\n",
    "    'Rain_mm'\n",
    "] += 6.32"
   ]
  },
  {
   "cell_type": "code",
   "execution_count": 20,
   "metadata": {},
   "outputs": [],
   "source": [
    "def calc_e_water(T):\n",
    "    '''\n",
    "    Calculate saturation vapor pressure for water.\n",
    "    '''\n",
    "    return 6.1121 * np.exp((18.678 - (T / 234.6)) * (T / (257.14 + T)))\n",
    "def calc_e_ice(T):\n",
    "    '''\n",
    "    Calculate saturation vapor pressure for ice.\n",
    "    '''\n",
    "    return 6.1115 * np.exp((23.036 - (T / 333.7)) * (T / (279.824 + T)))"
   ]
  },
  {
   "cell_type": "code",
   "execution_count": 21,
   "metadata": {},
   "outputs": [],
   "source": [
    "def calc_vpd(air_temp, rh, saturation_vapor_pressure):\n",
    "    '''\n",
    "    Calculates VPD according to saturation vapor pressure calculations of Buck \n",
    "    (1996), these are modifications of Buck (1981) that does not require an \n",
    "    enhancement factor specification.\n",
    "\n",
    "    VPD = e_s * (1 - RH/100)\n",
    "    e_s is dependent on whether T > 0 or < 0\n",
    "\n",
    "    air_temp must be in C, rh in percent, saturation_vapor_pressure uses Buck\n",
    "    calculations which returns hPa not kPa.\n",
    "    '''\n",
    "    return (saturation_vapor_pressure(air_temp) * (1 - (rh / 100))) * 0.1 # 1 hPa to 0.1 kPa"
   ]
  },
  {
   "cell_type": "code",
   "execution_count": 22,
   "metadata": {},
   "outputs": [],
   "source": [
    "# Calculate VPD in kPa\n",
    "new_hourly_weather['D_kPa'] = hourly_weather.apply(\n",
    "    lambda row: calc_vpd(row['Temp.C'], row['RH.percent'], calc_e_water) if row['Temp.C'] > 0 else calc_vpd(row['Temp.C'], row['RH.percent'], calc_e_ice),\n",
    "    axis=1\n",
    ")"
   ]
  },
  {
   "cell_type": "code",
   "execution_count": 23,
   "metadata": {},
   "outputs": [],
   "source": [
    "def convert_par_to_solar_radiation(par):\n",
    "    '''\n",
    "    Conversion done per:\n",
    "\n",
    "    Reis, Mariana & Ribeiro, Aristides. (2020). Conversion factors and general \n",
    "    quations applied in agricultural and forest meteorology. 27. 227-258. \n",
    "    10.31062/agrom.v27i2.26527. \n",
    "\n",
    "    \"The approximation 1 W m-2 ≈ 4.57 μmol m-2 s-1 (Thimijan & Heins, 1983) is \n",
    "    assuming that the W m-2 is for photosynthetically active radiation (PAR) \n",
    "    from 4.0 to 7.0 µm.\"\n",
    "\n",
    "    Sensor used for cottonwood data was HOBO S-LIA-M003, which measures\n",
    "    between 400 to 700 nm, so this is fine to use, but for other sensors that do\n",
    "    not measure in that range, PAR is ~2.02 instead.\n",
    "    '''\n",
    "    return par / 4.57"
   ]
  },
  {
   "cell_type": "code",
   "execution_count": 24,
   "metadata": {},
   "outputs": [],
   "source": [
    "# Subtract weird baseline (1.2) and calculate solar radiation in Wm^-2 from micromoles/m2/s\n",
    "new_hourly_weather['Solar_Wm2'] = hourly_weather['PAR.mumol.m2.s'].apply(lambda x: x - 1.2).apply(convert_par_to_solar_radiation)"
   ]
  },
  {
   "cell_type": "code",
   "execution_count": 25,
   "metadata": {},
   "outputs": [],
   "source": [
    "new_hourly_weather.to_csv(\"./dataset.csv\", index=False)"
   ]
  }
 ],
 "metadata": {
  "kernelspec": {
   "display_name": "env",
   "language": "python",
   "name": "python3"
  },
  "language_info": {
   "codemirror_mode": {
    "name": "ipython",
    "version": 3
   },
   "file_extension": ".py",
   "mimetype": "text/x-python",
   "name": "python",
   "nbconvert_exporter": "python",
   "pygments_lexer": "ipython3",
   "version": "3.12.5"
  }
 },
 "nbformat": 4,
 "nbformat_minor": 2
}
