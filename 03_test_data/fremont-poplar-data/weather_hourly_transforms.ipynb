{
 "cells": [
  {
   "cell_type": "markdown",
   "metadata": {},
   "source": [
    "# Transformed Hourly Weather Data\n",
    "Author: Colin Pannikkat\n",
    "\n",
    "This notebook transforms the Posch et. al hourly weather data into a usable input file for the GARISOM model. Soil temperature was not provided, and is instead retrieved from NLDAS in file_builder.py when building the simulation files. "
   ]
  },
  {
   "cell_type": "code",
   "execution_count": 3,
   "metadata": {},
   "outputs": [],
   "source": [
    "import pandas as pd\n",
    "from datetime import datetime\n",
    "import numpy as np"
   ]
  },
  {
   "cell_type": "code",
   "execution_count": 4,
   "metadata": {},
   "outputs": [
    {
     "data": {
      "text/html": [
       "<div>\n",
       "<style scoped>\n",
       "    .dataframe tbody tr th:only-of-type {\n",
       "        vertical-align: middle;\n",
       "    }\n",
       "\n",
       "    .dataframe tbody tr th {\n",
       "        vertical-align: top;\n",
       "    }\n",
       "\n",
       "    .dataframe thead th {\n",
       "        text-align: right;\n",
       "    }\n",
       "</style>\n",
       "<table border=\"1\" class=\"dataframe\">\n",
       "  <thead>\n",
       "    <tr style=\"text-align: right;\">\n",
       "      <th></th>\n",
       "      <th>No.</th>\n",
       "      <th>Date.Time</th>\n",
       "      <th>Rain.mm</th>\n",
       "      <th>Wind.Direction</th>\n",
       "      <th>Temp.C</th>\n",
       "      <th>RH.percent</th>\n",
       "      <th>Wind.Speed.m.s</th>\n",
       "      <th>Gust.Speed.m.s</th>\n",
       "      <th>PAR.mumol.m2.s</th>\n",
       "    </tr>\n",
       "  </thead>\n",
       "  <tbody>\n",
       "    <tr>\n",
       "      <th>0</th>\n",
       "      <td>26333.5</td>\n",
       "      <td>5/1/2023 0:43</td>\n",
       "      <td>0.0</td>\n",
       "      <td>110.95</td>\n",
       "      <td>25.2760</td>\n",
       "      <td>17.60</td>\n",
       "      <td>0.00</td>\n",
       "      <td>1.260</td>\n",
       "      <td>1.2</td>\n",
       "    </tr>\n",
       "    <tr>\n",
       "      <th>1</th>\n",
       "      <td>26335.5</td>\n",
       "      <td>5/1/2023 1:43</td>\n",
       "      <td>0.0</td>\n",
       "      <td>57.60</td>\n",
       "      <td>23.2815</td>\n",
       "      <td>21.90</td>\n",
       "      <td>0.00</td>\n",
       "      <td>0.755</td>\n",
       "      <td>1.2</td>\n",
       "    </tr>\n",
       "    <tr>\n",
       "      <th>2</th>\n",
       "      <td>26337.5</td>\n",
       "      <td>5/1/2023 2:43</td>\n",
       "      <td>0.0</td>\n",
       "      <td>68.10</td>\n",
       "      <td>23.2805</td>\n",
       "      <td>23.40</td>\n",
       "      <td>0.00</td>\n",
       "      <td>1.260</td>\n",
       "      <td>1.2</td>\n",
       "    </tr>\n",
       "    <tr>\n",
       "      <th>3</th>\n",
       "      <td>26339.5</td>\n",
       "      <td>5/1/2023 3:43</td>\n",
       "      <td>0.0</td>\n",
       "      <td>63.20</td>\n",
       "      <td>21.7000</td>\n",
       "      <td>25.25</td>\n",
       "      <td>0.25</td>\n",
       "      <td>1.760</td>\n",
       "      <td>1.2</td>\n",
       "    </tr>\n",
       "    <tr>\n",
       "      <th>4</th>\n",
       "      <td>26341.5</td>\n",
       "      <td>5/1/2023 4:43</td>\n",
       "      <td>0.0</td>\n",
       "      <td>44.20</td>\n",
       "      <td>21.1990</td>\n",
       "      <td>25.55</td>\n",
       "      <td>0.50</td>\n",
       "      <td>2.010</td>\n",
       "      <td>1.2</td>\n",
       "    </tr>\n",
       "  </tbody>\n",
       "</table>\n",
       "</div>"
      ],
      "text/plain": [
       "       No.      Date.Time  Rain.mm  Wind.Direction   Temp.C  RH.percent  \\\n",
       "0  26333.5  5/1/2023 0:43      0.0          110.95  25.2760       17.60   \n",
       "1  26335.5  5/1/2023 1:43      0.0           57.60  23.2815       21.90   \n",
       "2  26337.5  5/1/2023 2:43      0.0           68.10  23.2805       23.40   \n",
       "3  26339.5  5/1/2023 3:43      0.0           63.20  21.7000       25.25   \n",
       "4  26341.5  5/1/2023 4:43      0.0           44.20  21.1990       25.55   \n",
       "\n",
       "   Wind.Speed.m.s  Gust.Speed.m.s  PAR.mumol.m2.s  \n",
       "0            0.00           1.260             1.2  \n",
       "1            0.00           0.755             1.2  \n",
       "2            0.00           1.260             1.2  \n",
       "3            0.25           1.760             1.2  \n",
       "4            0.50           2.010             1.2  "
      ]
     },
     "execution_count": 4,
     "metadata": {},
     "output_type": "execute_result"
    }
   ],
   "source": [
    "hourly_weather = pd.read_csv(\"./data/weather_hourly.avg_230501-231231.csv\")\n",
    "hourly_weather.head()"
   ]
  },
  {
   "cell_type": "code",
   "execution_count": 5,
   "metadata": {},
   "outputs": [],
   "source": [
    "new_hourly_weather = pd.DataFrame(columns=['Year', 'Day', 'Hour', 'Solar_Wm2', 'Rain_mm', 'Wind_ms.1', 'Tair_C', 'Tsoil_C', 'D_kPa'])"
   ]
  },
  {
   "cell_type": "code",
   "execution_count": 6,
   "metadata": {},
   "outputs": [],
   "source": [
    "new_hourly_weather['Rain_mm'] = hourly_weather['Rain.mm']"
   ]
  },
  {
   "cell_type": "code",
   "execution_count": 7,
   "metadata": {},
   "outputs": [],
   "source": [
    "new_hourly_weather['Wind_ms.1'] = hourly_weather['Wind.Speed.m.s']"
   ]
  },
  {
   "cell_type": "code",
   "execution_count": 8,
   "metadata": {},
   "outputs": [],
   "source": [
    "new_hourly_weather['Tair_C'] = hourly_weather['Temp.C']"
   ]
  },
  {
   "cell_type": "code",
   "execution_count": 9,
   "metadata": {},
   "outputs": [],
   "source": [
    "new_hourly_weather['Year'] = hourly_weather['Date.Time'].map(lambda x: datetime.strptime(x, \"%m/%d/%Y %H:%M\").strftime(\"%Y\"))"
   ]
  },
  {
   "cell_type": "code",
   "execution_count": 10,
   "metadata": {},
   "outputs": [],
   "source": [
    "new_hourly_weather['Day'] = hourly_weather['Date.Time'].map(lambda x: datetime.strptime(x, \"%m/%d/%Y %H:%M\").strftime(\"%-j\"))"
   ]
  },
  {
   "cell_type": "code",
   "execution_count": 11,
   "metadata": {},
   "outputs": [],
   "source": [
    "new_hourly_weather['Hour'] = hourly_weather['Date.Time'].map(lambda x: datetime.strptime(x, \"%m/%d/%Y %H:%M\").strftime(\"%H\"))"
   ]
  },
  {
   "cell_type": "code",
   "execution_count": 12,
   "metadata": {},
   "outputs": [],
   "source": [
    "def calc_e_water(T):\n",
    "    '''\n",
    "    Calculate saturation vapor pressure for water.\n",
    "    '''\n",
    "    return 6.1121 * np.exp((18.678 - (T / 234.6)) * (T / (257.14 + T)))\n",
    "def calc_e_ice(T):\n",
    "    '''\n",
    "    Calculate saturation vapor pressure for ice.\n",
    "    '''\n",
    "    return 6.1115 * np.exp((23.036 - (T / 333.7)) * (T / (279.824 + T)))"
   ]
  },
  {
   "cell_type": "code",
   "execution_count": 13,
   "metadata": {},
   "outputs": [],
   "source": [
    "def calc_vpd(air_temp, rh, saturation_vapor_pressure):\n",
    "    '''\n",
    "    Calculates VPD according to saturation vapor pressure calculations of Buck \n",
    "    (1996), these are modifications of Buck (1981) that does not require an \n",
    "    enhancement factor specification.\n",
    "\n",
    "    VPD = e_s * (1 - RH/100)\n",
    "    e_s is dependent on whether T > 0 or < 0\n",
    "\n",
    "    air_temp must be in C, rh in percent, saturation_vapor_pressure uses Buck\n",
    "    calculations which returns hPa not kPa.\n",
    "    '''\n",
    "    return (saturation_vapor_pressure(air_temp) * (1 - (rh / 100))) * 0.1 # 1 hPa to 0.1 kPa"
   ]
  },
  {
   "cell_type": "code",
   "execution_count": 14,
   "metadata": {},
   "outputs": [],
   "source": [
    "# Calculate VPD in kPa\n",
    "new_hourly_weather['D_kPa'] = hourly_weather.apply(\n",
    "    lambda row: calc_vpd(row['Temp.C'], row['RH.percent'], calc_e_water) if row['Temp.C'] > 0 else calc_vpd(row['Temp.C'], row['RH.percent'], calc_e_ice),\n",
    "    axis=1\n",
    ")"
   ]
  },
  {
   "cell_type": "code",
   "execution_count": 15,
   "metadata": {},
   "outputs": [],
   "source": [
    "def convert_par_to_solar_radiation(par):\n",
    "    '''\n",
    "    Conversion done per:\n",
    "\n",
    "    Reis, Mariana & Ribeiro, Aristides. (2020). Conversion factors and general \n",
    "    quations applied in agricultural and forest meteorology. 27. 227-258. \n",
    "    10.31062/agrom.v27i2.26527. \n",
    "\n",
    "    \"The approximation 1 W m-2 ≈ 4.57 μmol m-2 s-1 (Thimijan & Heins, 1983) is \n",
    "    assuming that the W m-2 is for photosynthetically active radiation (PAR) \n",
    "    from 4.0 to 7.0 µm.\"\n",
    "\n",
    "    Sensor used for cottonwood data was HOBO S-LIA-M003, which measures\n",
    "    between 400 to 700 nm, so this is fine to use, but for other sensors that do\n",
    "    not measure in that range, PAR is ~2.02 instead.\n",
    "    '''\n",
    "    return par / 4.57"
   ]
  },
  {
   "cell_type": "code",
   "execution_count": 16,
   "metadata": {},
   "outputs": [],
   "source": [
    "# Subtract weird baseline (1.2) and calculate solar radiation in Wm^-2 from micromoles/m2/s\n",
    "new_hourly_weather['Solar_Wm2'] = hourly_weather['PAR.mumol.m2.s'].apply(lambda x: x - 1.2).apply(convert_par_to_solar_radiation)"
   ]
  },
  {
   "cell_type": "code",
   "execution_count": 17,
   "metadata": {},
   "outputs": [],
   "source": [
    "new_hourly_weather.to_csv(\"./dataset.csv\", index=False)"
   ]
  }
 ],
 "metadata": {
  "kernelspec": {
   "display_name": "env",
   "language": "python",
   "name": "python3"
  },
  "language_info": {
   "codemirror_mode": {
    "name": "ipython",
    "version": 3
   },
   "file_extension": ".py",
   "mimetype": "text/x-python",
   "name": "python",
   "nbconvert_exporter": "python",
   "pygments_lexer": "ipython3",
   "version": "3.12.5"
  }
 },
 "nbformat": 4,
 "nbformat_minor": 2
}
